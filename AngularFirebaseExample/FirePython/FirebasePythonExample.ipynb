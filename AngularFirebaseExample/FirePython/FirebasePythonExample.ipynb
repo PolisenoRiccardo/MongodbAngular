{
 "cells": [
  {
   "cell_type": "code",
   "execution_count": 21,
   "metadata": {},
   "outputs": [],
   "source": [
    "import firebase_admin\n",
    "from firebase_admin import credentials, firestore\n",
    "from google.cloud.firestore_v1.base_query import FieldFilter\n",
    "\n",
    "#https://firebase.google.com/docs/firestore/query-data/queries#python"
   ]
  },
  {
   "cell_type": "code",
   "execution_count": 8,
   "metadata": {},
   "outputs": [],
   "source": [
    "cred = credentials.Certificate(\"serviceAccountKey.json\")\n",
    "firebase_admin.initialize_app(cred)\n",
    "\n",
    "db = firestore.client()"
   ]
  },
  {
   "cell_type": "code",
   "execution_count": 6,
   "metadata": {},
   "outputs": [
    {
     "name": "stdout",
     "output_type": "stream",
     "text": [
      "{'age': 25, 'email': 'alice@example.com', 'name': 'Alice'}\n",
      "OGpJPNq9HJTsod23EbDz8RuCCXk1 => {'age': 48, 'email': 'test5@test.com', 'username': 'User5'}\n",
      "VyThNjB5XZbOOiE23BfY8AdhLIg2 => {'age': 59, 'email': 'test2@test.com', 'username': 'User2'}\n",
      "YNDVgIY9a5biD66ZXPxxYckencw1 => {'age': 29, 'email': 'test1@test.com', 'username': 'User1'}\n",
      "hb8UbqiPplKps74yppqe => {'age': 30, 'email': 'bob@example.com', 'name': 'Bob'}\n",
      "kv4Fg2zqSdfyh6KvRMqH => {'age': 30, 'email': 'bob@example.com', 'name': 'Bob'}\n",
      "sKCHzQNFQzezgIvMoDlSi9G0rFR2 => {'age': 47, 'email': 'test4@test.com', 'username': 'User4'}\n",
      "user_id => {'age': 25, 'email': 'alice@example.com', 'name': 'Alice'}\n",
      "utzgHaPV0yN0wjAw7vjE2wH0QeL2 => {'age': 71, 'email': 'test3@test.com', 'username': 'User3'}\n"
     ]
    },
    {
     "data": {
      "text/plain": [
       "update_time {\n",
       "  seconds: 1730158023\n",
       "  nanos: 155126000\n",
       "}"
      ]
     },
     "execution_count": 6,
     "metadata": {},
     "output_type": "execute_result"
    }
   ],
   "source": [
    "doc_ref = db.collection(\"users\").document(\"user_id\")\n",
    "doc_ref.set({\n",
    "    \"name\": \"Alice\",\n",
    "    \"email\": \"alice@example.com\",\n",
    "    \"age\": 25\n",
    "})\n",
    "\n",
    "\n",
    "auto_id_ref = db.collection(\"users\").add({\n",
    "    \"name\": \"Bob\",\n",
    "    \"email\": \"bob@example.com\",\n",
    "    \"age\": 30\n",
    "})\n",
    "\n",
    "doc_ref = db.collection(\"users\").document(\"user_id\")\n",
    "doc = doc_ref.get()\n",
    "if doc.exists:\n",
    "    print(doc.to_dict())\n",
    "else:\n",
    "    print(\"No such document.\")\n",
    "\n",
    "docs = db.collection(\"users\").get()\n",
    "for doc in docs:\n",
    "    print(f\"{doc.id} => {doc.to_dict()}\")\n",
    "\n",
    "\n",
    "doc_ref = db.collection(\"users\").document(\"user_id\")\n",
    "doc_ref.update({\n",
    "    \"age\": 26,\n",
    "    \"location\": \"New York\"\n",
    "})"
   ]
  },
  {
   "cell_type": "code",
   "execution_count": 10,
   "metadata": {},
   "outputs": [
    {
     "data": {
      "text/plain": [
       "update_time {\n",
       "  seconds: 1730187411\n",
       "  nanos: 109457000\n",
       "}"
      ]
     },
     "execution_count": 10,
     "metadata": {},
     "output_type": "execute_result"
    }
   ],
   "source": [
    "doc_ref = db.collection(\"users\").document(\"OGpJPNq9HJTsod23EbDz8RuCCXk1\")\n",
    "\n",
    "doc_ref.update({\n",
    "    \"age\": 6969\n",
    "})"
   ]
  },
  {
   "cell_type": "code",
   "execution_count": 16,
   "metadata": {},
   "outputs": [
    {
     "data": {
      "text/plain": [
       "update_time {\n",
       "  seconds: 1730187910\n",
       "  nanos: 597588000\n",
       "}"
      ]
     },
     "execution_count": 16,
     "metadata": {},
     "output_type": "execute_result"
    }
   ],
   "source": [
    "randomDocRef = db.collection(\"users\").document(\"OGpJPNq9HJTsod23EbDz8RuCCXk1\")\n",
    "randomDocRef.set({\n",
    "    \"HackedByAdminSDK\" : True\n",
    "})"
   ]
  },
  {
   "cell_type": "code",
   "execution_count": 27,
   "metadata": {},
   "outputs": [],
   "source": [
    "usersCollection = db.collection(\"users\")\n",
    "docsQuery = usersCollection.where(filter=FieldFilter(\"HackedByAdminSDK\", \"==\", True)).stream()\n",
    "for doc in docsQuery:\n",
    "    print(doc.id)"
   ]
  }
 ],
 "metadata": {
  "kernelspec": {
   "display_name": "Python 3",
   "language": "python",
   "name": "python3"
  },
  "language_info": {
   "codemirror_mode": {
    "name": "ipython",
    "version": 3
   },
   "file_extension": ".py",
   "mimetype": "text/x-python",
   "name": "python",
   "nbconvert_exporter": "python",
   "pygments_lexer": "ipython3",
   "version": "3.13.0"
  }
 },
 "nbformat": 4,
 "nbformat_minor": 2
}
